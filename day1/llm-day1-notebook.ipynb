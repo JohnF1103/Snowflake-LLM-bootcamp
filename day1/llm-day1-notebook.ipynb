{
 "cells": [
  {
   "cell_type": "markdown",
   "metadata": {},
   "source": [
    "# BUILD LLM Bootcamp Day 1 "
   ]
  },
  {
   "cell_type": "markdown",
   "metadata": {},
   "source": [
    "Prerequisite: Run the following commands in a terminal window to create a conda environment.\n",
    "\n",
    "<pre>\n",
    "- conda create --name llm-bootcamp -c https://repo.anaconda.com/pkgs/snowflake python=3.9\n",
    "- conda activate llm-bootcamp\n",
    "- conda install -c https://repo.anaconda.com/pkgs/snowflake snowflake-snowpark-python pandas notebook\n",
    "<pre/>\n"
   ]
  },
  {
   "cell_type": "markdown",
   "metadata": {},
   "source": [
    "### Install Libraries"
   ]
  },
  {
   "cell_type": "code",
   "execution_count": 1,
   "metadata": {},
   "outputs": [
    {
     "name": "stdout",
     "output_type": "stream",
     "text": [
      "Defaulting to user installation because normal site-packages is not writeable\n",
      "Requirement already satisfied: snowflake-ml-python==1.0.12 in /Users/johnfoster/Library/Python/3.9/lib/python/site-packages (1.0.12)\n",
      "Requirement already satisfied: numpy<2,>=1.23 in /Users/johnfoster/Library/Python/3.9/lib/python/site-packages (from snowflake-ml-python==1.0.12) (1.23.3)\n",
      "Requirement already satisfied: pyyaml<7,>=6.0 in /Users/johnfoster/Library/Python/3.9/lib/python/site-packages (from snowflake-ml-python==1.0.12) (6.0.1)\n",
      "Requirement already satisfied: importlib_resources<6,>=5.1.4 in /Users/johnfoster/Library/Python/3.9/lib/python/site-packages (from snowflake-ml-python==1.0.12) (5.13.0)\n",
      "Requirement already satisfied: pytimeparse<2,>=1.1.8 in /Users/johnfoster/Library/Python/3.9/lib/python/site-packages (from snowflake-ml-python==1.0.12) (1.1.8)\n",
      "Requirement already satisfied: typing-extensions<5,>=4.1.0 in /Users/johnfoster/Library/Python/3.9/lib/python/site-packages (from snowflake-ml-python==1.0.12) (4.8.0)\n",
      "Requirement already satisfied: cloudpickle>=2.0.0 in /Users/johnfoster/Library/Python/3.9/lib/python/site-packages (from snowflake-ml-python==1.0.12) (2.0.0)\n",
      "Requirement already satisfied: s3fs<2024,>=2022.11 in /Users/johnfoster/Library/Python/3.9/lib/python/site-packages (from snowflake-ml-python==1.0.12) (2023.12.1)\n",
      "Requirement already satisfied: snowflake-snowpark-python<2,>=1.5.1 in /Users/johnfoster/Library/Python/3.9/lib/python/site-packages (from snowflake-ml-python==1.0.12) (1.10.0)\n",
      "Requirement already satisfied: scikit-learn<1.4,>=1.2.1 in /Users/johnfoster/Library/Python/3.9/lib/python/site-packages (from snowflake-ml-python==1.0.12) (1.3.2)\n",
      "Requirement already satisfied: anyio<4,>=3.5.0 in /Users/johnfoster/Library/Python/3.9/lib/python/site-packages (from snowflake-ml-python==1.0.12) (3.7.1)\n",
      "Requirement already satisfied: fsspec[http]<2024,>=2022.11 in /Users/johnfoster/Library/Python/3.9/lib/python/site-packages (from snowflake-ml-python==1.0.12) (2023.12.1)\n",
      "Requirement already satisfied: absl-py<2,>=0.15 in /Users/johnfoster/Library/Python/3.9/lib/python/site-packages (from snowflake-ml-python==1.0.12) (1.4.0)\n",
      "Requirement already satisfied: scipy<2,>=1.9 in /Users/johnfoster/Library/Python/3.9/lib/python/site-packages (from snowflake-ml-python==1.0.12) (1.11.4)\n",
      "Requirement already satisfied: packaging<24,>=20.9 in /Users/johnfoster/Library/Python/3.9/lib/python/site-packages (from snowflake-ml-python==1.0.12) (21.3)\n",
      "Requirement already satisfied: sqlparse<1,>=0.4 in /Users/johnfoster/Library/Python/3.9/lib/python/site-packages (from snowflake-ml-python==1.0.12) (0.4.4)\n",
      "Requirement already satisfied: pandas<2,>=1.0.0 in /Users/johnfoster/Library/Python/3.9/lib/python/site-packages (from snowflake-ml-python==1.0.12) (1.5.3)\n",
      "Requirement already satisfied: xgboost<2,>=1.7.3 in /Users/johnfoster/Library/Python/3.9/lib/python/site-packages (from snowflake-ml-python==1.0.12) (1.7.6)\n",
      "Requirement already satisfied: snowflake-connector-python[pandas]<4,>=3.0.4 in /Users/johnfoster/Library/Python/3.9/lib/python/site-packages (from snowflake-ml-python==1.0.12) (3.5.0)\n",
      "Requirement already satisfied: cachetools<5,>=3.1.1 in /Users/johnfoster/Library/Python/3.9/lib/python/site-packages (from snowflake-ml-python==1.0.12) (4.2.4)\n",
      "Requirement already satisfied: exceptiongroup in /Users/johnfoster/Library/Python/3.9/lib/python/site-packages (from anyio<4,>=3.5.0->snowflake-ml-python==1.0.12) (1.2.0)\n",
      "Requirement already satisfied: idna>=2.8 in /Users/johnfoster/Library/Python/3.9/lib/python/site-packages (from anyio<4,>=3.5.0->snowflake-ml-python==1.0.12) (3.6)\n",
      "Requirement already satisfied: sniffio>=1.1 in /Users/johnfoster/Library/Python/3.9/lib/python/site-packages (from anyio<4,>=3.5.0->snowflake-ml-python==1.0.12) (1.3.0)\n",
      "Requirement already satisfied: aiohttp!=4.0.0a0,!=4.0.0a1 in /Users/johnfoster/Library/Python/3.9/lib/python/site-packages (from fsspec[http]<2024,>=2022.11->snowflake-ml-python==1.0.12) (3.9.1)\n",
      "Requirement already satisfied: requests in /Users/johnfoster/Library/Python/3.9/lib/python/site-packages (from fsspec[http]<2024,>=2022.11->snowflake-ml-python==1.0.12) (2.31.0)\n",
      "Requirement already satisfied: async-timeout<5.0,>=4.0 in /Users/johnfoster/Library/Python/3.9/lib/python/site-packages (from aiohttp!=4.0.0a0,!=4.0.0a1->fsspec[http]<2024,>=2022.11->snowflake-ml-python==1.0.12) (4.0.3)\n",
      "Requirement already satisfied: frozenlist>=1.1.1 in /Users/johnfoster/Library/Python/3.9/lib/python/site-packages (from aiohttp!=4.0.0a0,!=4.0.0a1->fsspec[http]<2024,>=2022.11->snowflake-ml-python==1.0.12) (1.4.0)\n",
      "Requirement already satisfied: aiosignal>=1.1.2 in /Users/johnfoster/Library/Python/3.9/lib/python/site-packages (from aiohttp!=4.0.0a0,!=4.0.0a1->fsspec[http]<2024,>=2022.11->snowflake-ml-python==1.0.12) (1.3.1)\n",
      "Requirement already satisfied: multidict<7.0,>=4.5 in /Users/johnfoster/Library/Python/3.9/lib/python/site-packages (from aiohttp!=4.0.0a0,!=4.0.0a1->fsspec[http]<2024,>=2022.11->snowflake-ml-python==1.0.12) (6.0.4)\n",
      "Requirement already satisfied: yarl<2.0,>=1.0 in /Users/johnfoster/Library/Python/3.9/lib/python/site-packages (from aiohttp!=4.0.0a0,!=4.0.0a1->fsspec[http]<2024,>=2022.11->snowflake-ml-python==1.0.12) (1.9.4)\n",
      "Requirement already satisfied: attrs>=17.3.0 in /Users/johnfoster/Library/Python/3.9/lib/python/site-packages (from aiohttp!=4.0.0a0,!=4.0.0a1->fsspec[http]<2024,>=2022.11->snowflake-ml-python==1.0.12) (23.1.0)\n",
      "Requirement already satisfied: zipp>=3.1.0 in /Users/johnfoster/Library/Python/3.9/lib/python/site-packages (from importlib_resources<6,>=5.1.4->snowflake-ml-python==1.0.12) (3.17.0)\n",
      "Requirement already satisfied: pyparsing!=3.0.5,>=2.0.2 in /Users/johnfoster/Library/Python/3.9/lib/python/site-packages (from packaging<24,>=20.9->snowflake-ml-python==1.0.12) (3.0.9)\n",
      "Requirement already satisfied: pytz>=2020.1 in /Users/johnfoster/Library/Python/3.9/lib/python/site-packages (from pandas<2,>=1.0.0->snowflake-ml-python==1.0.12) (2023.3.post1)\n",
      "Requirement already satisfied: python-dateutil>=2.8.1 in /Users/johnfoster/Library/Python/3.9/lib/python/site-packages (from pandas<2,>=1.0.0->snowflake-ml-python==1.0.12) (2.8.2)\n",
      "Requirement already satisfied: six>=1.5 in /Library/Developer/CommandLineTools/Library/Frameworks/Python3.framework/Versions/3.9/lib/python3.9/site-packages (from python-dateutil>=2.8.1->pandas<2,>=1.0.0->snowflake-ml-python==1.0.12) (1.15.0)\n",
      "Requirement already satisfied: aiobotocore<3.0.0,>=2.5.4 in /Users/johnfoster/Library/Python/3.9/lib/python/site-packages (from s3fs<2024,>=2022.11->snowflake-ml-python==1.0.12) (2.8.0)\n",
      "Requirement already satisfied: wrapt<2.0.0,>=1.10.10 in /Users/johnfoster/Library/Python/3.9/lib/python/site-packages (from aiobotocore<3.0.0,>=2.5.4->s3fs<2024,>=2022.11->snowflake-ml-python==1.0.12) (1.16.0)\n",
      "Requirement already satisfied: aioitertools<1.0.0,>=0.5.1 in /Users/johnfoster/Library/Python/3.9/lib/python/site-packages (from aiobotocore<3.0.0,>=2.5.4->s3fs<2024,>=2022.11->snowflake-ml-python==1.0.12) (0.11.0)\n",
      "Requirement already satisfied: botocore<1.33.2,>=1.32.4 in /Users/johnfoster/Library/Python/3.9/lib/python/site-packages (from aiobotocore<3.0.0,>=2.5.4->s3fs<2024,>=2022.11->snowflake-ml-python==1.0.12) (1.33.1)\n",
      "Requirement already satisfied: jmespath<2.0.0,>=0.7.1 in /Users/johnfoster/Library/Python/3.9/lib/python/site-packages (from botocore<1.33.2,>=1.32.4->aiobotocore<3.0.0,>=2.5.4->s3fs<2024,>=2022.11->snowflake-ml-python==1.0.12) (1.0.1)\n",
      "Requirement already satisfied: urllib3<1.27,>=1.25.4 in /Users/johnfoster/Library/Python/3.9/lib/python/site-packages (from botocore<1.33.2,>=1.32.4->aiobotocore<3.0.0,>=2.5.4->s3fs<2024,>=2022.11->snowflake-ml-python==1.0.12) (1.26.18)\n",
      "Requirement already satisfied: threadpoolctl>=2.0.0 in /Users/johnfoster/Library/Python/3.9/lib/python/site-packages (from scikit-learn<1.4,>=1.2.1->snowflake-ml-python==1.0.12) (3.2.0)\n",
      "Requirement already satisfied: joblib>=1.1.1 in /Users/johnfoster/Library/Python/3.9/lib/python/site-packages (from scikit-learn<1.4,>=1.2.1->snowflake-ml-python==1.0.12) (1.3.2)\n",
      "Requirement already satisfied: certifi>=2017.4.17 in /Users/johnfoster/Library/Python/3.9/lib/python/site-packages (from snowflake-connector-python[pandas]<4,>=3.0.4->snowflake-ml-python==1.0.12) (2023.11.17)\n",
      "Requirement already satisfied: cryptography<42.0.0,>=3.1.0 in /Users/johnfoster/Library/Python/3.9/lib/python/site-packages (from snowflake-connector-python[pandas]<4,>=3.0.4->snowflake-ml-python==1.0.12) (41.0.7)\n",
      "Requirement already satisfied: cffi<2.0.0,>=1.9 in /Users/johnfoster/Library/Python/3.9/lib/python/site-packages (from snowflake-connector-python[pandas]<4,>=3.0.4->snowflake-ml-python==1.0.12) (1.16.0)\n",
      "Requirement already satisfied: pyOpenSSL<24.0.0,>=16.2.0 in /Users/johnfoster/Library/Python/3.9/lib/python/site-packages (from snowflake-connector-python[pandas]<4,>=3.0.4->snowflake-ml-python==1.0.12) (23.3.0)\n",
      "Requirement already satisfied: pyjwt<3.0.0 in /Users/johnfoster/Library/Python/3.9/lib/python/site-packages (from snowflake-connector-python[pandas]<4,>=3.0.4->snowflake-ml-python==1.0.12) (2.8.0)\n",
      "Requirement already satisfied: charset-normalizer<4,>=2 in /Users/johnfoster/Library/Python/3.9/lib/python/site-packages (from snowflake-connector-python[pandas]<4,>=3.0.4->snowflake-ml-python==1.0.12) (3.3.2)\n",
      "Requirement already satisfied: filelock<4,>=3.5 in /Users/johnfoster/Library/Python/3.9/lib/python/site-packages (from snowflake-connector-python[pandas]<4,>=3.0.4->snowflake-ml-python==1.0.12) (3.13.1)\n",
      "Requirement already satisfied: tomlkit in /Users/johnfoster/Library/Python/3.9/lib/python/site-packages (from snowflake-connector-python[pandas]<4,>=3.0.4->snowflake-ml-python==1.0.12) (0.12.3)\n",
      "Requirement already satisfied: platformdirs<4.0.0,>=2.6.0 in /Users/johnfoster/Library/Python/3.9/lib/python/site-packages (from snowflake-connector-python[pandas]<4,>=3.0.4->snowflake-ml-python==1.0.12) (3.11.0)\n",
      "Requirement already satisfied: asn1crypto<2.0.0,>0.24.0 in /Users/johnfoster/Library/Python/3.9/lib/python/site-packages (from snowflake-connector-python[pandas]<4,>=3.0.4->snowflake-ml-python==1.0.12) (1.5.1)\n",
      "Requirement already satisfied: sortedcontainers>=2.4.0 in /Users/johnfoster/Library/Python/3.9/lib/python/site-packages (from snowflake-connector-python[pandas]<4,>=3.0.4->snowflake-ml-python==1.0.12) (2.4.0)\n",
      "Requirement already satisfied: pyarrow in /Users/johnfoster/Library/Python/3.9/lib/python/site-packages (from snowflake-connector-python[pandas]<4,>=3.0.4->snowflake-ml-python==1.0.12) (14.0.1)\n",
      "Requirement already satisfied: pycparser in /Users/johnfoster/Library/Python/3.9/lib/python/site-packages (from cffi<2.0.0,>=1.9->snowflake-connector-python[pandas]<4,>=3.0.4->snowflake-ml-python==1.0.12) (2.21)\n",
      "Requirement already satisfied: wheel in /Library/Developer/CommandLineTools/Library/Frameworks/Python3.framework/Versions/3.9/lib/python3.9/site-packages (from snowflake-snowpark-python<2,>=1.5.1->snowflake-ml-python==1.0.12) (0.37.0)\n",
      "Requirement already satisfied: setuptools>=40.6.0 in /Library/Developer/CommandLineTools/Library/Frameworks/Python3.framework/Versions/3.9/lib/python3.9/site-packages (from snowflake-snowpark-python<2,>=1.5.1->snowflake-ml-python==1.0.12) (58.0.4)\n",
      "\u001b[33mWARNING: You are using pip version 21.2.4; however, version 23.3.1 is available.\n",
      "You should consider upgrading via the '/Library/Developer/CommandLineTools/usr/bin/python3 -m pip install --upgrade pip' command.\u001b[0m\n",
      "Note: you may need to restart the kernel to use updated packages.\n"
     ]
    }
   ],
   "source": [
    "%pip install snowflake-ml-python==1.0.12"
   ]
  },
  {
   "cell_type": "code",
   "execution_count": 2,
   "metadata": {},
   "outputs": [
    {
     "name": "stdout",
     "output_type": "stream",
     "text": [
      "Defaulting to user installation because normal site-packages is not writeable\n",
      "Requirement already satisfied: transformers==4.34.0 in /Users/johnfoster/Library/Python/3.9/lib/python/site-packages (4.34.0)\n",
      "Requirement already satisfied: tokenizers in /Users/johnfoster/Library/Python/3.9/lib/python/site-packages (0.14.1)\n",
      "Requirement already satisfied: packaging>=20.0 in /Users/johnfoster/Library/Python/3.9/lib/python/site-packages (from transformers==4.34.0) (21.3)\n",
      "Requirement already satisfied: pyyaml>=5.1 in /Users/johnfoster/Library/Python/3.9/lib/python/site-packages (from transformers==4.34.0) (6.0.1)\n",
      "Requirement already satisfied: huggingface-hub<1.0,>=0.16.4 in /Users/johnfoster/Library/Python/3.9/lib/python/site-packages (from transformers==4.34.0) (0.17.3)\n",
      "Requirement already satisfied: regex!=2019.12.17 in /Users/johnfoster/Library/Python/3.9/lib/python/site-packages (from transformers==4.34.0) (2023.10.3)\n",
      "Requirement already satisfied: requests in /Users/johnfoster/Library/Python/3.9/lib/python/site-packages (from transformers==4.34.0) (2.31.0)\n",
      "Requirement already satisfied: tqdm>=4.27 in /Users/johnfoster/Library/Python/3.9/lib/python/site-packages (from transformers==4.34.0) (4.66.1)\n",
      "Requirement already satisfied: numpy>=1.17 in /Users/johnfoster/Library/Python/3.9/lib/python/site-packages (from transformers==4.34.0) (1.23.3)\n",
      "Requirement already satisfied: filelock in /Users/johnfoster/Library/Python/3.9/lib/python/site-packages (from transformers==4.34.0) (3.13.1)\n",
      "Requirement already satisfied: safetensors>=0.3.1 in /Users/johnfoster/Library/Python/3.9/lib/python/site-packages (from transformers==4.34.0) (0.4.1)\n",
      "Requirement already satisfied: typing-extensions>=3.7.4.3 in /Users/johnfoster/Library/Python/3.9/lib/python/site-packages (from huggingface-hub<1.0,>=0.16.4->transformers==4.34.0) (4.8.0)\n",
      "Requirement already satisfied: fsspec in /Users/johnfoster/Library/Python/3.9/lib/python/site-packages (from huggingface-hub<1.0,>=0.16.4->transformers==4.34.0) (2023.12.1)\n",
      "Requirement already satisfied: pyparsing!=3.0.5,>=2.0.2 in /Users/johnfoster/Library/Python/3.9/lib/python/site-packages (from packaging>=20.0->transformers==4.34.0) (3.0.9)\n",
      "Requirement already satisfied: charset-normalizer<4,>=2 in /Users/johnfoster/Library/Python/3.9/lib/python/site-packages (from requests->transformers==4.34.0) (3.3.2)\n",
      "Requirement already satisfied: idna<4,>=2.5 in /Users/johnfoster/Library/Python/3.9/lib/python/site-packages (from requests->transformers==4.34.0) (3.6)\n",
      "Requirement already satisfied: urllib3<3,>=1.21.1 in /Users/johnfoster/Library/Python/3.9/lib/python/site-packages (from requests->transformers==4.34.0) (1.26.18)\n",
      "Requirement already satisfied: certifi>=2017.4.17 in /Users/johnfoster/Library/Python/3.9/lib/python/site-packages (from requests->transformers==4.34.0) (2023.11.17)\n",
      "\u001b[33mWARNING: You are using pip version 21.2.4; however, version 23.3.1 is available.\n",
      "You should consider upgrading via the '/Library/Developer/CommandLineTools/usr/bin/python3 -m pip install --upgrade pip' command.\u001b[0m\n",
      "Note: you may need to restart the kernel to use updated packages.\n"
     ]
    }
   ],
   "source": [
    "%pip install transformers==4.34.0 tokenizers"
   ]
  },
  {
   "cell_type": "markdown",
   "metadata": {},
   "source": [
    "### Import Libraries"
   ]
  },
  {
   "cell_type": "code",
   "execution_count": 3,
   "metadata": {},
   "outputs": [],
   "source": [
    "from snowflake.snowpark.session import Session\n",
    "from snowflake.ml.model.models import llm\n",
    "from snowflake.ml.registry import model_registry\n",
    "from snowflake.ml.model import deploy_platforms\n",
    "from snowflake.snowpark import VERSION\n",
    "import snowflake.snowpark.functions as F\n",
    "\n",
    "import sys\n",
    "import os\n",
    "import json\n",
    "import pandas as pd\n",
    "pd.set_option('display.max_colwidth', None)"
   ]
  },
  {
   "cell_type": "markdown",
   "metadata": {},
   "source": [
    "### Establish Secure Connection\n",
    "\n",
    "*NOTE: Update [connection.json](connection.json) and set your password, Hugging Face token, and replace '####' with your user number.*"
   ]
  },
  {
   "cell_type": "code",
   "execution_count": 8,
   "metadata": {},
   "outputs": [
    {
     "name": "stdout",
     "output_type": "stream",
     "text": [
      "User                        : USER0043\n",
      "Role                        : \"ROLE_USER0043\"\n",
      "Database                    : \"DB_USER0043\"\n",
      "Schema                      : \"SCHEMA_LLM\"\n",
      "Warehouse                   : \"WH_XS_USER0043\"\n",
      "Snowflake version           : 7.43.0\n",
      "Snowpark for Python version : 1.10.0\n"
     ]
    }
   ],
   "source": [
    "# Create Snowflake Session object\n",
    "connection_parameters = json.load(open('connection.json'))\n",
    "session = Session.builder.configs(connection_parameters).create()\n",
    "session.sql_simplifier_enabled = True\n",
    "\n",
    "snowflake_environment = session.sql('select current_user(), current_version()').collect()\n",
    "snowpark_version = VERSION\n",
    "\n",
    "# Current Environment Details\n",
    "print('User                        : {}'.format(snowflake_environment[0][0]))\n",
    "print('Role                        : {}'.format(session.get_current_role()))\n",
    "print('Database                    : {}'.format(session.get_current_database()))\n",
    "print('Schema                      : {}'.format(session.get_current_schema()))\n",
    "print('Warehouse                   : {}'.format(session.get_current_warehouse()))\n",
    "print('Snowflake version           : {}'.format(snowflake_environment[0][1]))\n",
    "print('Snowpark for Python version : {}.{}.{}'.format(snowpark_version[0],snowpark_version[1],snowpark_version[2]))"
   ]
  },
  {
   "cell_type": "markdown",
   "metadata": {},
   "source": [
    "### Reference Llama 2 from Huggingface"
   ]
  },
  {
   "cell_type": "code",
   "execution_count": 9,
   "metadata": {},
   "outputs": [
    {
     "name": "stderr",
     "output_type": "stream",
     "text": [
      "/Users/johnfoster/Library/Python/3.9/lib/python/site-packages/tqdm/auto.py:21: TqdmWarning: IProgress not found. Please update jupyter and ipywidgets. See https://ipywidgets.readthedocs.io/en/stable/user_install.html\n",
      "  from .autonotebook import tqdm as notebook_tqdm\n",
      "None of PyTorch, TensorFlow >= 2.0, or Flax have been found. Models won't be available and only tokenizers, configuration and file/data utilities can be used.\n"
     ]
    }
   ],
   "source": [
    "options = llm.LLMOptions(\n",
    "    token=connection_parameters['huggingface_token'],\n",
    "    max_batch_size=100,\n",
    ")\n",
    "llama_model = llm.LLM(\n",
    "    model_id_or_path=\"meta-llama/Llama-2-7b-chat-hf\",\n",
    "    options=options\n",
    ")"
   ]
  },
  {
   "cell_type": "markdown",
   "metadata": {},
   "source": [
    "### Register, Log and Deploy Llama 2 into Snowpark Container Services \n",
    "\n",
    "*NOTE: Logging and deploying the same model are one time operations. Once the model is logged and deployed, use ModeReference to get the reference to the model.*"
   ]
  },
  {
   "cell_type": "code",
   "execution_count": 20,
   "metadata": {},
   "outputs": [
    {
     "name": "stderr",
     "output_type": "stream",
     "text": [
      "INFO:snowflake.connector.cursor:query: [SHOW DATABASES LIKE 'DB_USER0043']\n",
      "INFO:snowflake.connector.cursor:query execution done\n",
      "INFO:snowflake.connector.cursor:Number of results in first chunk: 1\n",
      "WARNING:absl:The database DB_USER0043 already exists. Skipping creation.\n",
      "INFO:snowflake.connector.cursor:query: [SHOW SCHEMAS LIKE 'SCHEMA_LLM' IN DATABASE DB_USER0043]\n",
      "INFO:snowflake.connector.cursor:query execution done\n",
      "INFO:snowflake.connector.cursor:Number of results in first chunk: 1\n",
      "WARNING:absl:The schema DB_USER0043.SCHEMA_LLM already exists. Skipping creation.\n",
      "INFO:snowflake.connector.cursor:query: [SHOW TABLES LIKE '_SYSTEM_REGISTRY_SCHEMA_VERSION' IN DB_USER0043.SCHEMA_LLM]\n",
      "INFO:snowflake.connector.cursor:query execution done\n",
      "INFO:snowflake.connector.cursor:Number of results in first chunk: 1\n",
      "INFO:snowflake.connector.cursor:query: [SELECT MAX(VERSION) AS MAX_VERSION FROM DB_USER0043.SCHEMA_LLM._SYSTEM_REGISTRY_...]\n",
      "INFO:snowflake.connector.cursor:query execution done\n",
      "INFO:snowflake.connector.cursor:Number of results in first chunk: 1\n",
      "INFO:snowflake.connector.cursor:query: [SHOW TABLES LIKE '_SYSTEM_REGISTRY_SCHEMA_VERSION' IN DB_USER0043.SCHEMA_LLM]\n",
      "INFO:snowflake.connector.cursor:query execution done\n",
      "INFO:snowflake.connector.cursor:Number of results in first chunk: 1\n",
      "INFO:snowflake.connector.cursor:query: [SELECT MAX(VERSION) AS MAX_VERSION FROM DB_USER0043.SCHEMA_LLM._SYSTEM_REGISTRY_...]\n",
      "INFO:snowflake.connector.cursor:query execution done\n",
      "INFO:snowflake.connector.cursor:Number of results in first chunk: 1\n",
      "INFO:snowflake.connector.cursor:query: [DESC TABLE DB_USER0043.SCHEMA_LLM._SYSTEM_REGISTRY_MODELS]\n",
      "INFO:snowflake.connector.cursor:query execution done\n",
      "INFO:snowflake.connector.cursor:Number of results in first chunk: 13\n",
      "INFO:snowflake.connector.cursor:query: [DESC TABLE DB_USER0043.SCHEMA_LLM._SYSTEM_REGISTRY_METADATA]\n",
      "INFO:snowflake.connector.cursor:query execution done\n",
      "INFO:snowflake.connector.cursor:Number of results in first chunk: 8\n",
      "INFO:snowflake.connector.cursor:query: [DESC TABLE DB_USER0043.SCHEMA_LLM._SYSTEM_REGISTRY_DEPLOYMENTS]\n",
      "INFO:snowflake.connector.cursor:query execution done\n",
      "INFO:snowflake.connector.cursor:Number of results in first chunk: 9\n",
      "INFO:snowflake.connector.cursor:query: [DESC TABLE DB_USER0043.SCHEMA_LLM._SYSTEM_REGISTRY_ARTIFACTS]\n",
      "INFO:snowflake.connector.cursor:query execution done\n",
      "INFO:snowflake.connector.cursor:Number of results in first chunk: 7\n",
      "INFO:snowflake.connector.cursor:query: [CREATE OR REPLACE VIEW DB_USER0043.SCHEMA_LLM._SYSTEM_REGISTRY_DEPLOYMENTS_VIEW ...]\n",
      "INFO:snowflake.connector.cursor:query execution done\n",
      "INFO:snowflake.connector.cursor:Number of results in first chunk: 1\n",
      "INFO:snowflake.connector.cursor:query: [CREATE OR REPLACE VIEW DB_USER0043.SCHEMA_LLM._SYSTEM_REGISTRY_METADATA_LAST_DES...]\n",
      "INFO:snowflake.connector.cursor:query execution done\n",
      "INFO:snowflake.connector.cursor:Number of results in first chunk: 1\n",
      "INFO:snowflake.connector.cursor:query: [CREATE OR REPLACE VIEW DB_USER0043.SCHEMA_LLM._SYSTEM_REGISTRY_METADATA_LAST_MET...]\n",
      "INFO:snowflake.connector.cursor:query execution done\n",
      "INFO:snowflake.connector.cursor:Number of results in first chunk: 1\n",
      "INFO:snowflake.connector.cursor:query: [CREATE OR REPLACE VIEW DB_USER0043.SCHEMA_LLM._SYSTEM_REGISTRY_METADATA_LAST_TAG...]\n",
      "INFO:snowflake.connector.cursor:query execution done\n",
      "INFO:snowflake.connector.cursor:Number of results in first chunk: 1\n",
      "INFO:snowflake.connector.cursor:query: [CREATE OR REPLACE VIEW DB_USER0043.SCHEMA_LLM._SYSTEM_REGISTRY_METADATA_LAST_REG...]\n",
      "INFO:snowflake.connector.cursor:query execution done\n",
      "INFO:snowflake.connector.cursor:Number of results in first chunk: 1\n",
      "INFO:snowflake.connector.cursor:query: [CREATE OR REPLACE VIEW DB_USER0043.SCHEMA_LLM._SYSTEM_REGISTRY_MODELS_VIEW COPY ...]\n",
      "INFO:snowflake.connector.cursor:query execution done\n",
      "INFO:snowflake.connector.cursor:Number of results in first chunk: 1\n",
      "INFO:snowflake.connector.cursor:query: [CREATE OR REPLACE VIEW DB_USER0043.SCHEMA_LLM._SYSTEM_REGISTRY_ARTIFACTS_VIEW CO...]\n",
      "INFO:snowflake.connector.cursor:query execution done\n",
      "INFO:snowflake.connector.cursor:Number of results in first chunk: 1\n",
      "INFO:snowflake.connector.cursor:query: [SHOW DATABASES LIKE 'DB_USER0043']\n",
      "INFO:snowflake.connector.cursor:query execution done\n",
      "INFO:snowflake.connector.cursor:Number of results in first chunk: 1\n",
      "INFO:snowflake.connector.cursor:query: [SHOW SCHEMAS LIKE 'SCHEMA_LLM' IN DATABASE DB_USER0043]\n",
      "INFO:snowflake.connector.cursor:query execution done\n",
      "INFO:snowflake.connector.cursor:Number of results in first chunk: 1\n",
      "INFO:snowflake.connector.cursor:query: [SHOW TABLES LIKE '_SYSTEM_REGISTRY_MODELS' IN DB_USER0043.SCHEMA_LLM]\n",
      "INFO:snowflake.connector.cursor:query execution done\n",
      "INFO:snowflake.connector.cursor:Number of results in first chunk: 1\n",
      "INFO:snowflake.connector.cursor:query: [SHOW TABLES LIKE '_SYSTEM_REGISTRY_METADATA' IN DB_USER0043.SCHEMA_LLM]\n",
      "INFO:snowflake.connector.cursor:query execution done\n",
      "INFO:snowflake.connector.cursor:Number of results in first chunk: 1\n",
      "INFO:snowflake.connector.cursor:query: [SHOW TABLES LIKE '_SYSTEM_REGISTRY_DEPLOYMENTS' IN DB_USER0043.SCHEMA_LLM]\n",
      "INFO:snowflake.connector.cursor:query execution done\n",
      "INFO:snowflake.connector.cursor:Number of results in first chunk: 1\n",
      "INFO:snowflake.connector.cursor:query: [SHOW TABLES LIKE '_SYSTEM_REGISTRY_SCHEMA_VERSION' IN DB_USER0043.SCHEMA_LLM]\n",
      "INFO:snowflake.connector.cursor:query execution done\n",
      "INFO:snowflake.connector.cursor:Number of results in first chunk: 1\n",
      "INFO:snowflake.connector.cursor:query: [SELECT MAX(VERSION) AS MAX_VERSION FROM DB_USER0043.SCHEMA_LLM._SYSTEM_REGISTRY_...]\n",
      "INFO:snowflake.connector.cursor:query execution done\n",
      "INFO:snowflake.connector.cursor:Number of results in first chunk: 1\n",
      "INFO:snowflake.connector.cursor:query: [SHOW TABLES LIKE '_SYSTEM_REGISTRY_SCHEMA_VERSION' IN DB_USER0043.SCHEMA_LLM]\n",
      "INFO:snowflake.connector.cursor:query execution done\n",
      "INFO:snowflake.connector.cursor:Number of results in first chunk: 1\n",
      "INFO:snowflake.connector.cursor:query: [SELECT MAX(VERSION) AS MAX_VERSION FROM DB_USER0043.SCHEMA_LLM._SYSTEM_REGISTRY_...]\n",
      "INFO:snowflake.connector.cursor:query execution done\n",
      "INFO:snowflake.connector.cursor:Number of results in first chunk: 1\n",
      "INFO:snowflake.connector.cursor:query: [SELECT * FROM DB_USER0043.SCHEMA_LLM._SYSTEM_REGISTRY_MODELS_VIEW]\n",
      "INFO:snowflake.connector.cursor:query execution done\n",
      "INFO:snowflake.connector.cursor:Number of results in first chunk: 0\n",
      "INFO:snowflake.connector.cursor:query: [SELECT count(1) AS \"COUNT(LITERAL())\" FROM ( SELECT  *  FROM (SELECT * FROM DB_U...]\n",
      "INFO:snowflake.connector.cursor:query execution done\n",
      "INFO:snowflake.connector.cursor:Number of results in first chunk: 1\n",
      "INFO:snowflake.connector.cursor:query: [CREATE OR REPLACE STAGE DB_USER0043.SCHEMA_LLM.SNOWML_MODEL_C8A8726E947911EE99BD...]\n",
      "INFO:snowflake.connector.cursor:query execution done\n",
      "INFO:snowflake.connector.cursor:Number of results in first chunk: 1\n",
      "INFO:snowflake.connector.cursor:query: [SHOW COLUMNS LIKE 'runtime_version' IN TABLE information_schema.packages;]\n",
      "INFO:snowflake.connector.cursor:query execution done\n",
      "INFO:snowflake.connector.cursor:Number of results in first chunk: 0\n",
      "INFO:snowflake.connector.cursor:query: [SHOW COLUMNS LIKE 'runtime_version' IN TABLE information_schema.packages;]\n",
      "INFO:snowflake.connector.cursor:query execution done\n",
      "INFO:snowflake.connector.cursor:Number of results in first chunk: 1\n",
      "INFO:snowflake.connector.cursor:query: [SELECT count(1) AS \"COUNT(LITERAL())\" FROM ( SELECT  *  FROM  TABLE ( RESULT_SCA...]\n",
      "INFO:snowflake.connector.cursor:query execution done\n",
      "INFO:snowflake.connector.cursor:Number of results in first chunk: 1\n",
      "INFO:snowflake.connector.cursor:query: [SELECT PACKAGE_NAME, VERSION FROM information_schema.packages WHERE (package_nam...]\n",
      "INFO:snowflake.connector.cursor:query execution done\n",
      "INFO:snowflake.connector.cursor:Number of results in first chunk: 17\n",
      "INFO:absl:Local snowflake-ml-python library has version 1.0.12, which is not available in the Snowflake server, embedding local ML library automatically.\n",
      "INFO:absl:Model signatures are auto inferred as:\n",
      "\n",
      "{'infer': ModelSignature(\n",
      "                    inputs=[\n",
      "                        FeatureSpec(dtype=DataType.STRING, name='input')\n",
      "                    ],\n",
      "                    outputs=[\n",
      "                        FeatureSpec(dtype=DataType.STRING, name='generated_text')\n",
      "                    ]\n",
      "                )}\n",
      "INFO:snowflake.connector.cursor:query: [PUT 'file:///var/folders/sk/dmxb51td1zs6wy7djncg4d840000gn/T/tmpfjeu99hm/model.z...]\n",
      "INFO:snowflake.connector.cursor:query execution done\n",
      "INFO:snowflake.connector.cursor:query: [SELECT * FROM DB_USER0043.SCHEMA_LLM._SYSTEM_REGISTRY_MODELS_VIEW]\n",
      "INFO:snowflake.connector.cursor:query execution done\n",
      "INFO:snowflake.connector.cursor:Number of results in first chunk: 0\n",
      "INFO:snowflake.connector.cursor:query: [SELECT count(1) AS \"COUNT(LITERAL())\" FROM ( SELECT  *  FROM (SELECT * FROM DB_U...]\n",
      "INFO:snowflake.connector.cursor:query execution done\n",
      "INFO:snowflake.connector.cursor:Number of results in first chunk: 1\n",
      "INFO:snowflake.connector.cursor:query: [INSERT INTO DB_USER0043.SCHEMA_LLM._SYSTEM_REGISTRY_MODELS ( CREATION_ENVIRONMEN...]\n",
      "INFO:snowflake.connector.cursor:query execution done\n",
      "INFO:snowflake.connector.cursor:query: [SELECT * FROM DB_USER0043.SCHEMA_LLM._SYSTEM_REGISTRY_MODELS_VIEW]\n",
      "INFO:snowflake.connector.cursor:query execution done\n",
      "INFO:snowflake.connector.cursor:Number of results in first chunk: 0\n",
      "INFO:snowflake.connector.cursor:query: [SELECT  *  FROM (SELECT * FROM DB_USER0043.SCHEMA_LLM._SYSTEM_REGISTRY_MODELS_VI...]\n",
      "INFO:snowflake.connector.cursor:query execution done\n",
      "INFO:snowflake.connector.cursor:Number of results in first chunk: 1\n",
      "INFO:snowflake.connector.cursor:query: [INSERT INTO DB_USER0043.SCHEMA_LLM._SYSTEM_REGISTRY_METADATA ( ATTRIBUTE_NAME,EV...]\n",
      "INFO:snowflake.connector.cursor:query execution done\n",
      "INFO:snowflake.connector.cursor:query: [SELECT * FROM DB_USER0043.SCHEMA_LLM._SYSTEM_REGISTRY_MODELS_VIEW]\n",
      "INFO:snowflake.connector.cursor:query execution done\n",
      "INFO:snowflake.connector.cursor:Number of results in first chunk: 0\n",
      "INFO:snowflake.connector.cursor:query: [SELECT  *  FROM (SELECT * FROM DB_USER0043.SCHEMA_LLM._SYSTEM_REGISTRY_MODELS_VI...]\n",
      "INFO:snowflake.connector.cursor:query execution done\n",
      "INFO:snowflake.connector.cursor:Number of results in first chunk: 1\n"
     ]
    }
   ],
   "source": [
    "MODEL_NAME    = \"LLAMA2_7b_CHAT\"\n",
    "MODEL_VERSION = \"NewBaseV3.0\"\n",
    "MODEL_REGISTRY_DB = connection_parameters['database']\n",
    "MODEL_REGISTRY_SCHEMA = connection_parameters['schema']\n",
    "COMPUTE_POOL = connection_parameters['compute_pool']\n",
    "\n",
    "registry = model_registry.ModelRegistry(\n",
    "    session=session, \n",
    "    database_name=MODEL_REGISTRY_DB, \n",
    "    schema_name=MODEL_REGISTRY_SCHEMA, \n",
    "    create_if_not_exists=True)\n",
    "\n",
    "llama_model_ref = registry.log_model(\n",
    "    model_name=MODEL_NAME,\n",
    "    model_version=MODEL_VERSION,\n",
    "    model=llama_model\n",
    ")"
   ]
  },
  {
   "cell_type": "markdown",
   "metadata": {},
   "source": [
    "*Note: Deploying model for the first time can take ~25-30mins*"
   ]
  },
  {
   "cell_type": "code",
   "execution_count": 21,
   "metadata": {},
   "outputs": [
    {
     "name": "stderr",
     "output_type": "stream",
     "text": [
      "WARNING:snowflake.snowpark:ModelRegistry.deploy() is in private preview since 0.2.0. Do not use it in production. \n",
      "INFO:snowflake.connector.cursor:query: [SHOW TABLES LIKE '_SYSTEM_REGISTRY_SCHEMA_VERSION' IN DB_USER0043.SCHEMA_LLM]\n"
     ]
    },
    {
     "name": "stderr",
     "output_type": "stream",
     "text": [
      "INFO:snowflake.connector.cursor:query execution done\n",
      "INFO:snowflake.connector.cursor:Number of results in first chunk: 1\n",
      "INFO:snowflake.connector.cursor:query: [SELECT MAX(VERSION) AS MAX_VERSION FROM DB_USER0043.SCHEMA_LLM._SYSTEM_REGISTRY_...]\n",
      "INFO:snowflake.connector.cursor:query execution done\n",
      "INFO:snowflake.connector.cursor:Number of results in first chunk: 1\n",
      "INFO:snowflake.connector.cursor:query: [CREATE STAGE IF NOT EXISTS DB_USER0043.SCHEMA_LLM._SYSTEM_REGISTRY_DEPLOYMENTS_S...]\n",
      "INFO:snowflake.connector.cursor:query execution done\n",
      "INFO:snowflake.connector.cursor:Number of results in first chunk: 1\n",
      "INFO:snowflake.connector.cursor:query: [SELECT * FROM DB_USER0043.SCHEMA_LLM._SYSTEM_REGISTRY_MODELS_VIEW]\n",
      "INFO:snowflake.connector.cursor:query execution done\n",
      "INFO:snowflake.connector.cursor:Number of results in first chunk: 0\n",
      "INFO:snowflake.connector.cursor:query: [SELECT  *  FROM (SELECT * FROM DB_USER0043.SCHEMA_LLM._SYSTEM_REGISTRY_MODELS_VI...]\n",
      "INFO:snowflake.connector.cursor:query execution done\n",
      "INFO:snowflake.connector.cursor:Number of results in first chunk: 1\n",
      "INFO:snowflake.connector.cursor:query: [LIST @DB_USER0043.SCHEMA_LLM.SNOWML_MODEL_C8A8726E947911EE99BDF018982D51C6]\n",
      "INFO:snowflake.connector.cursor:query execution done\n",
      "INFO:snowflake.connector.cursor:Number of results in first chunk: 1\n",
      "INFO:snowflake.connector.cursor:query: [SELECT * FROM DB_USER0043.SCHEMA_LLM._SYSTEM_REGISTRY_MODELS_VIEW]\n",
      "INFO:snowflake.connector.cursor:query execution done\n",
      "INFO:snowflake.connector.cursor:Number of results in first chunk: 0\n",
      "INFO:snowflake.connector.cursor:query: [SELECT  *  FROM (SELECT * FROM DB_USER0043.SCHEMA_LLM._SYSTEM_REGISTRY_MODELS_VI...]\n",
      "INFO:snowflake.connector.cursor:query execution done\n",
      "INFO:snowflake.connector.cursor:Number of results in first chunk: 1\n",
      "INFO:snowflake.connector.cursor:query: [ls @DB_USER0043.SCHEMA_LLM.SNOWML_MODEL_C8A8726E947911EE99BDF018982D51C6]\n",
      "INFO:snowflake.connector.cursor:query execution done\n",
      "INFO:snowflake.connector.cursor:Number of results in first chunk: 1\n",
      "INFO:snowflake.connector.cursor:query: [GET '@DB_USER0043.SCHEMA_LLM.SNOWML_MODEL_C8A8726E947911EE99BDF018982D51C6/model...]\n",
      "INFO:snowflake.connector.cursor:query execution done\n",
      "/Users/johnfoster/Library/Python/3.9/lib/python/site-packages/snowflake/ml/model/_packager/model_env/model_env.py:353: UserWarning: Found dependencies specified as pip requirements. This may prevent model deploying to Snowflake Warehouse.\n",
      "  warnings.warn(\n",
      "INFO:snowflake.ml.model._deploy_client.snowservice.deploy_options:num_workers has been defaulted to 1 when using GPU.\n",
      "WARNING:snowflake.ml.model._deploy_client.snowservice.deploy:Building the Docker image and deploying to Snowpark Container Service. This process may take anywhere from a few minutes to a longer period for GPU-based models.\n",
      "INFO:snowflake.ml.model._deploy_client.image_builds.server_image_builder:Starting server-side image build\n",
      "WARNING:snowflake.ml.model._deploy_client.utils.snowservice_client:Best-effort log streaming from SPCS will be enabled when python logging level is set to INFO.Alternatively, you can also query the logs by running the query 'CALL SYSTEM$GET_JOB_LOGS('01b0d088-0001-eda4-0046-4b070002bf62', 'kaniko')'\n",
      "INFO:snowflake.ml._internal.utils.log_stream_processor:Starting Kaniko command...\n",
      "INFO:snowflake.ml._internal.utils.log_stream_processor:Monitoring session token changes in the background...\n",
      "INFO:snowflake.ml._internal.utils.log_stream_processor:\u001b[36mINFO\u001b[0m[2023-12-06T20:56:18Z] Resolved base name mambaorg/micromamba:1.4.3 to build \n",
      "INFO:snowflake.ml._internal.utils.log_stream_processor:\u001b[36mINFO\u001b[0m[2023-12-06T20:56:18Z] Retrieving image manifest mambaorg/micromamba:1.4.3 \n",
      "INFO:snowflake.ml._internal.utils.log_stream_processor:\u001b[36mINFO\u001b[0m[2023-12-06T20:56:18Z] Retrieving image mambaorg/micromamba:1.4.3 from registry index.docker.io \n",
      "INFO:snowflake.ml._internal.utils.log_stream_processor:\u001b[36mINFO\u001b[0m[2023-12-06T20:56:19Z] Retrieving image manifest mambaorg/micromamba:1.4.3 \n",
      "INFO:snowflake.ml._internal.utils.log_stream_processor:\u001b[36mINFO\u001b[0m[2023-12-06T20:56:19Z] Returning cached image manifest              \n",
      "INFO:snowflake.ml._internal.utils.log_stream_processor:\u001b[36mINFO\u001b[0m[2023-12-06T20:56:19Z] Built cross stage deps: map[]                \n",
      "INFO:snowflake.ml._internal.utils.log_stream_processor:\u001b[36mINFO\u001b[0m[2023-12-06T20:56:19Z] Retrieving image manifest mambaorg/micromamba:1.4.3 \n",
      "INFO:snowflake.ml._internal.utils.log_stream_processor:\u001b[36mINFO\u001b[0m[2023-12-06T20:56:19Z] Returning cached image manifest              \n",
      "INFO:snowflake.ml._internal.utils.log_stream_processor:\u001b[36mINFO\u001b[0m[2023-12-06T20:56:19Z] Retrieving image manifest mambaorg/micromamba:1.4.3 \n",
      "INFO:snowflake.ml._internal.utils.log_stream_processor:\u001b[36mINFO\u001b[0m[2023-12-06T20:56:19Z] Returning cached image manifest              \n",
      "INFO:snowflake.ml._internal.utils.log_stream_processor:\u001b[36mINFO\u001b[0m[2023-12-06T20:56:19Z] Executing 0 build triggers                   \n",
      "INFO:snowflake.ml._internal.utils.log_stream_processor:\u001b[36mINFO\u001b[0m[2023-12-06T20:56:19Z] Building stage 'mambaorg/micromamba:1.4.3' [idx: '0', base-idx: '-1'] \n",
      "INFO:snowflake.ml._internal.utils.log_stream_processor:\u001b[36mINFO\u001b[0m[2023-12-06T20:56:19Z] Checking for cached layer sfsenorthamerica-build-spcs6.registry.snowflakecomputing.com/db_user0043/schema_llm/snowml_repo/cache:1ad7e083d39e19781e70593287df62b733a6bf5e071c53ba89abfef462fb4b46... \n",
      "INFO:snowflake.ml._internal.utils.log_stream_processor:\u001b[36mINFO\u001b[0m[2023-12-06T20:56:19Z] No cached layer found for cmd RUN --mount=type=cache,target=/opt/conda/pkgs CONDA_OVERRIDE_CUDA=\"11.7\"     micromamba install -y -n base -f conda.yml && \tpython -m pip install \"uvicorn[standard]\" gunicorn starlette==0.30.0 && \tpython -m pip install -r requirements.txt &&     micromamba clean -afy \n",
      "INFO:snowflake.ml._internal.utils.log_stream_processor:\u001b[36mINFO\u001b[0m[2023-12-06T20:56:19Z] Cmd: USER                                    \n",
      "INFO:snowflake.ml._internal.utils.log_stream_processor:\u001b[36mINFO\u001b[0m[2023-12-06T20:56:19Z] Cmd: USER                                    \n",
      "INFO:snowflake.ml._internal.utils.log_stream_processor:\u001b[36mINFO\u001b[0m[2023-12-06T20:56:19Z] Cmd: EXPOSE                                  \n",
      "INFO:snowflake.ml._internal.utils.log_stream_processor:\u001b[36mINFO\u001b[0m[2023-12-06T20:56:19Z] Adding exposed port: 5000/tcp                \n",
      "INFO:snowflake.ml._internal.utils.log_stream_processor:\u001b[36mINFO\u001b[0m[2023-12-06T20:56:19Z] Unpacking rootfs as cmd COPY env/conda.yml conda.yml requires it. \n",
      "INFO:snowflake.ml._internal.utils.log_stream_processor:\u001b[36mINFO\u001b[0m[2023-12-06T20:56:22Z] Initializing snapshotter ...                 \n",
      "INFO:snowflake.ml._internal.utils.log_stream_processor:\u001b[36mINFO\u001b[0m[2023-12-06T20:56:22Z] Taking snapshot of full filesystem...        \n",
      "INFO:snowflake.ml._internal.utils.log_stream_processor:\u001b[36mINFO\u001b[0m[2023-12-06T20:56:23Z] COPY env/conda.yml conda.yml                 \n",
      "INFO:snowflake.ml._internal.utils.log_stream_processor:\u001b[36mINFO\u001b[0m[2023-12-06T20:56:23Z] Taking snapshot of files...                  \n",
      "INFO:snowflake.ml._internal.utils.log_stream_processor:\u001b[36mINFO\u001b[0m[2023-12-06T20:56:23Z] COPY env/requirements.txt requirements.txt   \n",
      "INFO:snowflake.ml._internal.utils.log_stream_processor:\u001b[36mINFO\u001b[0m[2023-12-06T20:56:23Z] Taking snapshot of files...                  \n",
      "INFO:snowflake.ml._internal.utils.log_stream_processor:\u001b[36mINFO\u001b[0m[2023-12-06T20:56:23Z] ARG MAMBA_DOCKERFILE_ACTIVATE=1              \n",
      "INFO:snowflake.ml._internal.utils.log_stream_processor:\u001b[36mINFO\u001b[0m[2023-12-06T20:56:23Z] No files changed in this command, skipping snapshotting. \n",
      "INFO:snowflake.ml._internal.utils.log_stream_processor:\u001b[36mINFO\u001b[0m[2023-12-06T20:56:23Z] ENV CONDA_PREFIX=/opt/conda                  \n",
      "INFO:snowflake.ml._internal.utils.log_stream_processor:\u001b[36mINFO\u001b[0m[2023-12-06T20:56:23Z] No files changed in this command, skipping snapshotting. \n",
      "INFO:snowflake.ml._internal.utils.log_stream_processor:\u001b[36mINFO\u001b[0m[2023-12-06T20:56:23Z] RUN --mount=type=cache,target=/opt/conda/pkgs CONDA_OVERRIDE_CUDA=\"11.7\"     micromamba install -y -n base -f conda.yml && \tpython -m pip install \"uvicorn[standard]\" gunicorn starlette==0.30.0 && \tpython -m pip install -r requirements.txt &&     micromamba clean -afy \n",
      "INFO:snowflake.ml._internal.utils.log_stream_processor:\u001b[36mINFO\u001b[0m[2023-12-06T20:56:23Z] Cmd: /usr/local/bin/_dockerfile_shell.sh     \n",
      "INFO:snowflake.ml._internal.utils.log_stream_processor:\u001b[36mINFO\u001b[0m[2023-12-06T20:56:23Z] Args: [CONDA_OVERRIDE_CUDA=\"11.7\"     micromamba install -y -n base -f conda.yml && \tpython -m pip install \"uvicorn[standard]\" gunicorn starlette==0.30.0 && \tpython -m pip install -r requirements.txt &&     micromamba clean -afy] \n",
      "INFO:snowflake.ml._internal.utils.log_stream_processor:\u001b[36mINFO\u001b[0m[2023-12-06T20:56:23Z] Util.Lookup returned: &{Uid:1000 Gid:1000 Username:mambauser Name: HomeDir:/home/mambauser} \n",
      "INFO:snowflake.ml._internal.utils.log_stream_processor:\u001b[36mINFO\u001b[0m[2023-12-06T20:56:23Z] Performing slow lookup of group ids for mambauser \n",
      "INFO:snowflake.ml._internal.utils.log_stream_processor:\u001b[36mINFO\u001b[0m[2023-12-06T20:56:23Z] Running: [/usr/local/bin/_dockerfile_shell.sh CONDA_OVERRIDE_CUDA=\"11.7\"     micromamba install -y -n base -f conda.yml && \tpython -m pip install \"uvicorn[standard]\" gunicorn starlette==0.30.0 && \tpython -m pip install -r requirements.txt &&     micromamba clean -afy] \n",
      "INFO:snowflake.ml._internal.utils.log_stream_processor:\n",
      "INFO:snowflake.ml._internal.utils.log_stream_processor:                                           __\n",
      "INFO:snowflake.ml._internal.utils.log_stream_processor:          __  ______ ___  ____ _____ ___  / /_  ____ _\n",
      "INFO:snowflake.ml._internal.utils.log_stream_processor:         / / / / __ `__ \\/ __ `/ __ `__ \\/ __ \\/ __ `/\n",
      "INFO:snowflake.ml._internal.utils.log_stream_processor:        / /_/ / / / / / / /_/ / / / / / / /_/ / /_/ /\n",
      "INFO:snowflake.ml._internal.utils.log_stream_processor:       / .___/_/ /_/ /_/\\__,_/_/ /_/ /_/_.___/\\__,_/\n",
      "INFO:snowflake.ml._internal.utils.log_stream_processor:      /_/\n",
      "INFO:snowflake.ml._internal.utils.log_stream_processor:\n",
      "INFO:snowflake.ml._internal.utils.log_stream_processor:\n",
      "INFO:snowflake.ml._internal.utils.log_stream_processor:    The following package could not be installed\n",
      "INFO:snowflake.ml._internal.utils.log_stream_processor:    └─ snowflake-snowpark-python 1.10.0  does not exist (perhaps a typo or a missing channel).\n",
      "INFO:snowflake.ml._internal.utils.log_stream_processor:critical libmamba Could not solve for environment specs\n",
      "INFO:snowflake.ml._internal.utils.log_stream_processor:error building image: error building stage: failed to execute command: waiting for process to exit: exit status 1\n",
      "INFO:snowflake.ml._internal.utils.log_stream_processor:\n"
     ]
    },
    {
     "ename": "RuntimeError",
     "evalue": "(1301) ResourceType.JOB 01b0d088-0001-eda4-0046-4b070002bf62 failed.\nStatus: ResourceStatus.FAILED \n",
     "output_type": "error",
     "traceback": [
      "\u001b[0;31m---------------------------------------------------------------------------\u001b[0m",
      "\u001b[0;31mSnowflakeMLException\u001b[0m                      Traceback (most recent call last)",
      "File \u001b[0;32m~/Library/Python/3.9/lib/python/site-packages/snowflake/ml/_internal/telemetry.py:310\u001b[0m, in \u001b[0;36msend_api_usage_telemetry.<locals>.decorator.<locals>.wrap\u001b[0;34m(*args, **kwargs)\u001b[0m\n\u001b[1;32m    309\u001b[0m \u001b[39mtry\u001b[39;00m:\n\u001b[0;32m--> 310\u001b[0m     res \u001b[39m=\u001b[39m func(\u001b[39m*\u001b[39;49margs, \u001b[39m*\u001b[39;49m\u001b[39m*\u001b[39;49mkwargs)\n\u001b[1;32m    311\u001b[0m \u001b[39mexcept\u001b[39;00m \u001b[39mException\u001b[39;00m \u001b[39mas\u001b[39;00m e:\n",
      "File \u001b[0;32m~/Library/Python/3.9/lib/python/site-packages/snowflake/snowpark/_internal/utils.py:620\u001b[0m, in \u001b[0;36mfunc_decorator.<locals>.wrapper.<locals>.func_call_wrapper\u001b[0;34m(*args, **kwargs)\u001b[0m\n\u001b[1;32m    619\u001b[0m warning(func\u001b[39m.\u001b[39m\u001b[39m__qualname__\u001b[39m, warning_text)\n\u001b[0;32m--> 620\u001b[0m \u001b[39mreturn\u001b[39;00m func(\u001b[39m*\u001b[39;49margs, \u001b[39m*\u001b[39;49m\u001b[39m*\u001b[39;49mkwargs)\n",
      "File \u001b[0;32m~/Library/Python/3.9/lib/python/site-packages/snowflake/ml/registry/model_registry.py:1565\u001b[0m, in \u001b[0;36mModelRegistry.deploy\u001b[0;34m(self, model_name, model_version, deployment_name, target_method, permanent, platform, options)\u001b[0m\n\u001b[1;32m   1564\u001b[0m \u001b[39m# Step 1: Deploy to get the UDF\u001b[39;00m\n\u001b[0;32m-> 1565\u001b[0m deployment_info \u001b[39m=\u001b[39m model_api\u001b[39m.\u001b[39;49mdeploy(\n\u001b[1;32m   1566\u001b[0m     session\u001b[39m=\u001b[39;49m\u001b[39mself\u001b[39;49m\u001b[39m.\u001b[39;49m_session,\n\u001b[1;32m   1567\u001b[0m     name\u001b[39m=\u001b[39;49m\u001b[39mself\u001b[39;49m\u001b[39m.\u001b[39;49m_fully_qualified_deployment_name(deployment_name),\n\u001b[1;32m   1568\u001b[0m     platform\u001b[39m=\u001b[39;49mplatform,\n\u001b[1;32m   1569\u001b[0m     target_method\u001b[39m=\u001b[39;49mtarget_method,\n\u001b[1;32m   1570\u001b[0m     stage_path\u001b[39m=\u001b[39;49mremote_model_path,\n\u001b[1;32m   1571\u001b[0m     deployment_stage_path\u001b[39m=\u001b[39;49mdeployment_stage_path,\n\u001b[1;32m   1572\u001b[0m     model_id\u001b[39m=\u001b[39;49mmodel_id,\n\u001b[1;32m   1573\u001b[0m     options\u001b[39m=\u001b[39;49moptions,\n\u001b[1;32m   1574\u001b[0m )\n\u001b[1;32m   1576\u001b[0m \u001b[39m# Step 2: Record the deployment\u001b[39;00m\n\u001b[1;32m   1577\u001b[0m \n\u001b[1;32m   1578\u001b[0m \u001b[39m# Assert to convince mypy.\u001b[39;00m\n",
      "File \u001b[0;32m~/Library/Python/3.9/lib/python/site-packages/snowflake/ml/model/_api.py:395\u001b[0m, in \u001b[0;36mdeploy\u001b[0;34m(session, name, platform, stage_path, target_method, deployment_stage_path, model_id, options)\u001b[0m\n\u001b[1;32m    388\u001b[0m         \u001b[39mraise\u001b[39;00m snowml_exceptions\u001b[39m.\u001b[39mSnowflakeMLException(\n\u001b[1;32m    389\u001b[0m             error_code\u001b[39m=\u001b[39merror_codes\u001b[39m.\u001b[39mINVALID_ARGUMENT,\n\u001b[1;32m    390\u001b[0m             original_exception\u001b[39m=\u001b[39m\u001b[39mValueError\u001b[39;00m(\n\u001b[1;32m    391\u001b[0m                 \u001b[39m\"\u001b[39m\u001b[39mMissing \u001b[39m\u001b[39m'\u001b[39m\u001b[39mcompute_pool\u001b[39m\u001b[39m'\u001b[39m\u001b[39m in options field for Snowpark container service deployment\u001b[39m\u001b[39m\"\u001b[39m\n\u001b[1;32m    392\u001b[0m             ),\n\u001b[1;32m    393\u001b[0m         )\n\u001b[0;32m--> 395\u001b[0m     details \u001b[39m=\u001b[39m snowservice_deploy\u001b[39m.\u001b[39;49m_deploy(\n\u001b[1;32m    396\u001b[0m         session\u001b[39m=\u001b[39;49msession,\n\u001b[1;32m    397\u001b[0m         model_id\u001b[39m=\u001b[39;49mmodel_id,\n\u001b[1;32m    398\u001b[0m         model_meta\u001b[39m=\u001b[39;49mm\u001b[39m.\u001b[39;49mpackager\u001b[39m.\u001b[39;49mmeta,\n\u001b[1;32m    399\u001b[0m         service_func_name\u001b[39m=\u001b[39;49mname,\n\u001b[1;32m    400\u001b[0m         model_zip_stage_path\u001b[39m=\u001b[39;49mm\u001b[39m.\u001b[39;49mmodel_stage_path,\n\u001b[1;32m    401\u001b[0m         deployment_stage_path\u001b[39m=\u001b[39;49mdeployment_stage_path,\n\u001b[1;32m    402\u001b[0m         target_method\u001b[39m=\u001b[39;49mtarget_method,\n\u001b[1;32m    403\u001b[0m         \u001b[39m*\u001b[39;49m\u001b[39m*\u001b[39;49moptions,\n\u001b[1;32m    404\u001b[0m     )\n\u001b[1;32m    406\u001b[0m \u001b[39melse\u001b[39;00m:\n",
      "File \u001b[0;32m~/Library/Python/3.9/lib/python/site-packages/snowflake/ml/model/_deploy_client/snowservice/deploy.py:182\u001b[0m, in \u001b[0;36m_deploy\u001b[0;34m(session, model_id, model_meta, service_func_name, model_zip_stage_path, deployment_stage_path, target_method, **kwargs)\u001b[0m\n\u001b[1;32m    172\u001b[0m     ss_deployment \u001b[39m=\u001b[39m SnowServiceDeployment(\n\u001b[1;32m    173\u001b[0m         session\u001b[39m=\u001b[39msession,\n\u001b[1;32m    174\u001b[0m         model_id\u001b[39m=\u001b[39mmodel_id,\n\u001b[0;32m   (...)\u001b[0m\n\u001b[1;32m    180\u001b[0m         options\u001b[39m=\u001b[39moptions,\n\u001b[1;32m    181\u001b[0m     )\n\u001b[0;32m--> 182\u001b[0m     \u001b[39mreturn\u001b[39;00m ss_deployment\u001b[39m.\u001b[39;49mdeploy()\n\u001b[1;32m    183\u001b[0m \u001b[39mfinally\u001b[39;00m:\n\u001b[1;32m    184\u001b[0m     \u001b[39m# Preserve the original logging level.\u001b[39;00m\n",
      "File \u001b[0;32m~/Library/Python/3.9/lib/python/site-packages/snowflake/ml/model/_deploy_client/snowservice/deploy.py:370\u001b[0m, in \u001b[0;36mSnowServiceDeployment.deploy\u001b[0;34m(self)\u001b[0m\n\u001b[1;32m    369\u001b[0m start \u001b[39m=\u001b[39m time\u001b[39m.\u001b[39mtime()\n\u001b[0;32m--> 370\u001b[0m \u001b[39mself\u001b[39;49m\u001b[39m.\u001b[39;49m_build_and_upload_image(\n\u001b[1;32m    371\u001b[0m     context_dir\u001b[39m=\u001b[39;49mcontext_dir, image_repo\u001b[39m=\u001b[39;49mimage_repo, full_image_name\u001b[39m=\u001b[39;49mfull_image_name\n\u001b[1;32m    372\u001b[0m )\n\u001b[1;32m    373\u001b[0m end \u001b[39m=\u001b[39m time\u001b[39m.\u001b[39mtime()\n",
      "File \u001b[0;32m~/Library/Python/3.9/lib/python/site-packages/snowflake/ml/model/_deploy_client/snowservice/deploy.py:447\u001b[0m, in \u001b[0;36mSnowServiceDeployment._build_and_upload_image\u001b[0;34m(self, context_dir, image_repo, full_image_name)\u001b[0m\n\u001b[1;32m    444\u001b[0m     image_builder \u001b[39m=\u001b[39m client_image_builder\u001b[39m.\u001b[39mClientImageBuilder(\n\u001b[1;32m    445\u001b[0m         context_dir\u001b[39m=\u001b[39mcontext_dir, full_image_name\u001b[39m=\u001b[39mfull_image_name, image_repo\u001b[39m=\u001b[39mimage_repo, session\u001b[39m=\u001b[39m\u001b[39mself\u001b[39m\u001b[39m.\u001b[39msession\n\u001b[1;32m    446\u001b[0m     )\n\u001b[0;32m--> 447\u001b[0m image_builder\u001b[39m.\u001b[39;49mbuild_and_upload_image()\n",
      "File \u001b[0;32m~/Library/Python/3.9/lib/python/site-packages/snowflake/ml/model/_deploy_client/image_builds/server_image_builder.py:68\u001b[0m, in \u001b[0;36mServerImageBuilder.build_and_upload_image\u001b[0;34m(self)\u001b[0m\n\u001b[1;32m     67\u001b[0m logger\u001b[39m.\u001b[39minfo(\u001b[39m\"\u001b[39m\u001b[39mStarting server-side image build\u001b[39m\u001b[39m\"\u001b[39m)\n\u001b[0;32m---> 68\u001b[0m \u001b[39mself\u001b[39;49m\u001b[39m.\u001b[39;49m_build_image_in_remote_job()\n",
      "File \u001b[0;32m~/Library/Python/3.9/lib/python/site-packages/snowflake/ml/model/_deploy_client/image_builds/server_image_builder.py:101\u001b[0m, in \u001b[0;36mServerImageBuilder._build_image_in_remote_job\u001b[0;34m(self)\u001b[0m\n\u001b[1;32m     97\u001b[0m \u001b[39mself\u001b[39m\u001b[39m.\u001b[39m_construct_and_upload_job_spec(\n\u001b[1;32m     98\u001b[0m     base_image\u001b[39m=\u001b[39mkaniko_image,\n\u001b[1;32m     99\u001b[0m     kaniko_shell_script_stage_location\u001b[39m=\u001b[39mkaniko_shell_script_stage_location,\n\u001b[1;32m    100\u001b[0m )\n\u001b[0;32m--> 101\u001b[0m \u001b[39mself\u001b[39;49m\u001b[39m.\u001b[39;49m_launch_kaniko_job(spec_stage_location)\n",
      "File \u001b[0;32m~/Library/Python/3.9/lib/python/site-packages/snowflake/ml/model/_deploy_client/image_builds/server_image_builder.py:205\u001b[0m, in \u001b[0;36mServerImageBuilder._launch_kaniko_job\u001b[0;34m(self, spec_stage_location)\u001b[0m\n\u001b[1;32m    204\u001b[0m logger\u001b[39m.\u001b[39mdebug(\u001b[39m\"\u001b[39m\u001b[39mSubmitting job for building docker image with kaniko\u001b[39m\u001b[39m\"\u001b[39m)\n\u001b[0;32m--> 205\u001b[0m \u001b[39mself\u001b[39;49m\u001b[39m.\u001b[39;49mclient\u001b[39m.\u001b[39;49mcreate_job(compute_pool\u001b[39m=\u001b[39;49m\u001b[39mself\u001b[39;49m\u001b[39m.\u001b[39;49mcompute_pool, spec_stage_location\u001b[39m=\u001b[39;49mspec_stage_location)\n",
      "File \u001b[0;32m~/Library/Python/3.9/lib/python/site-packages/snowflake/ml/model/_deploy_client/utils/snowservice_client.py:89\u001b[0m, in \u001b[0;36mSnowServiceClient.create_job\u001b[0;34m(self, compute_pool, spec_stage_location)\u001b[0m\n\u001b[1;32m     88\u001b[0m job_id \u001b[39m=\u001b[39m cur\u001b[39m.\u001b[39m_sfqid\n\u001b[0;32m---> 89\u001b[0m \u001b[39mself\u001b[39;49m\u001b[39m.\u001b[39;49mblock_until_resource_is_ready(\n\u001b[1;32m     90\u001b[0m     resource_name\u001b[39m=\u001b[39;49m\u001b[39mstr\u001b[39;49m(job_id),\n\u001b[1;32m     91\u001b[0m     resource_type\u001b[39m=\u001b[39;49mconstants\u001b[39m.\u001b[39;49mResourceType\u001b[39m.\u001b[39;49mJOB,\n\u001b[1;32m     92\u001b[0m     container_name\u001b[39m=\u001b[39;49mconstants\u001b[39m.\u001b[39;49mKANIKO_CONTAINER_NAME,\n\u001b[1;32m     93\u001b[0m     max_retries\u001b[39m=\u001b[39;49m\u001b[39m240\u001b[39;49m,\n\u001b[1;32m     94\u001b[0m     retry_interval_secs\u001b[39m=\u001b[39;49m\u001b[39m15\u001b[39;49m,\n\u001b[1;32m     95\u001b[0m )\n",
      "File \u001b[0;32m~/Library/Python/3.9/lib/python/site-packages/snowflake/ml/model/_deploy_client/utils/snowservice_client.py:227\u001b[0m, in \u001b[0;36mSnowServiceClient.block_until_resource_is_ready\u001b[0;34m(self, resource_name, resource_type, max_retries, container_name, retry_interval_secs)\u001b[0m\n\u001b[1;32m    225\u001b[0m         \u001b[39mself\u001b[39m\u001b[39m.\u001b[39m_drop_service_if_exists(service_name\u001b[39m=\u001b[39mresource_name)\n\u001b[0;32m--> 227\u001b[0m     \u001b[39mraise\u001b[39;00m snowml_exceptions\u001b[39m.\u001b[39mSnowflakeMLException(\n\u001b[1;32m    228\u001b[0m         error_code\u001b[39m=\u001b[39merror_codes\u001b[39m.\u001b[39mINTERNAL_SNOWPARK_CONTAINER_SERVICE_ERROR,\n\u001b[1;32m    229\u001b[0m         original_exception\u001b[39m=\u001b[39m\u001b[39mRuntimeError\u001b[39;00m(\n\u001b[1;32m    230\u001b[0m             \u001b[39mf\u001b[39m\u001b[39m\"\u001b[39m\u001b[39m{\u001b[39;00mresource_type\u001b[39m}\u001b[39;00m\u001b[39m \u001b[39m\u001b[39m{\u001b[39;00mresource_name\u001b[39m}\u001b[39;00m\u001b[39m \u001b[39m\u001b[39m{\u001b[39;00merror_message\u001b[39m}\u001b[39;00m\u001b[39m.\u001b[39m\u001b[39m\"\u001b[39m \u001b[39mf\u001b[39m\u001b[39m\"\u001b[39m\u001b[39m\\n\u001b[39;00m\u001b[39mStatus: \u001b[39m\u001b[39m{\u001b[39;00mstatus \u001b[39mif\u001b[39;00m status \u001b[39melse\u001b[39;00m \u001b[39m'\u001b[39m\u001b[39m'\u001b[39m\u001b[39m}\u001b[39;00m\u001b[39m \u001b[39m\u001b[39m\\n\u001b[39;00m\u001b[39m\"\u001b[39m\n\u001b[1;32m    231\u001b[0m         ),\n\u001b[1;32m    232\u001b[0m     )\n\u001b[1;32m    233\u001b[0m time\u001b[39m.\u001b[39msleep(retry_interval_secs)\n",
      "\u001b[0;31mSnowflakeMLException\u001b[0m: RuntimeError('(1301) ResourceType.JOB 01b0d088-0001-eda4-0046-4b070002bf62 failed.\\nStatus: ResourceStatus.FAILED \\n')",
      "\nThe above exception was the direct cause of the following exception:\n",
      "\u001b[0;31mRuntimeError\u001b[0m                              Traceback (most recent call last)",
      "File \u001b[0;32m<timed exec>:6\u001b[0m\n",
      "File \u001b[0;32m~/Library/Python/3.9/lib/python/site-packages/snowflake/ml/registry/model_registry.py:1932\u001b[0m, in \u001b[0;36mModelReference.__init__.<locals>.build_method.<locals>.<lambda>\u001b[0;34m(self, *args, **kwargs)\u001b[0m\n\u001b[1;32m   1931\u001b[0m \u001b[39mdef\u001b[39;00m \u001b[39mbuild_method\u001b[39m(m: Callable[\u001b[39m.\u001b[39m\u001b[39m.\u001b[39m\u001b[39m.\u001b[39m, Any]) \u001b[39m-\u001b[39m\u001b[39m>\u001b[39m Callable[\u001b[39m.\u001b[39m\u001b[39m.\u001b[39m\u001b[39m.\u001b[39m, Any]:\n\u001b[0;32m-> 1932\u001b[0m     \u001b[39mreturn\u001b[39;00m \u001b[39mlambda\u001b[39;00m \u001b[39mself\u001b[39m, \u001b[39m*\u001b[39margs, \u001b[39m*\u001b[39m\u001b[39m*\u001b[39mkwargs: m(\n\u001b[1;32m   1933\u001b[0m         \u001b[39mself\u001b[39;49m\u001b[39m.\u001b[39;49m_registry, \u001b[39mself\u001b[39;49m\u001b[39m.\u001b[39;49m_model_name, \u001b[39mself\u001b[39;49m\u001b[39m.\u001b[39;49m_model_version, \u001b[39m*\u001b[39;49margs, \u001b[39m*\u001b[39;49m\u001b[39m*\u001b[39;49mkwargs\n\u001b[1;32m   1934\u001b[0m     )\n",
      "File \u001b[0;32m~/Library/Python/3.9/lib/python/site-packages/snowflake/ml/_internal/telemetry.py:330\u001b[0m, in \u001b[0;36msend_api_usage_telemetry.<locals>.decorator.<locals>.wrap\u001b[0;34m(*args, **kwargs)\u001b[0m\n\u001b[1;32m    328\u001b[0m         \u001b[39mraise\u001b[39;00m e\u001b[39m.\u001b[39moriginal_exception \u001b[39mfrom\u001b[39;00m \u001b[39mNone\u001b[39m\n\u001b[1;32m    329\u001b[0m     \u001b[39melse\u001b[39;00m:\n\u001b[0;32m--> 330\u001b[0m         \u001b[39mraise\u001b[39;00m e\u001b[39m.\u001b[39moriginal_exception \u001b[39mfrom\u001b[39;00m \u001b[39me\u001b[39;00m\n\u001b[1;32m    331\u001b[0m \u001b[39melse\u001b[39;00m:\n\u001b[1;32m    332\u001b[0m     \u001b[39mreturn\u001b[39;00m res\n",
      "\u001b[0;31mRuntimeError\u001b[0m: (1301) ResourceType.JOB 01b0d088-0001-eda4-0046-4b070002bf62 failed.\nStatus: ResourceStatus.FAILED \n"
     ]
    }
   ],
   "source": [
    "%%time\n",
    "# Optionally enable INFO log level\n",
    "import logging\n",
    "logging.basicConfig()\n",
    "logging.getLogger().setLevel(logging.INFO)\n",
    "\n",
    "llama_model_ref.deploy(\n",
    "    deployment_name=\"llama_predict\", \n",
    "    platform=deploy_platforms.TargetPlatform.SNOWPARK_CONTAINER_SERVICES,\n",
    "    permanent=True, \n",
    "    options={\"compute_pool\": COMPUTE_POOL, \"num_gpus\": 1})\n",
    "\n",
    "llama_model_ref = model_registry.ModelReference(registry=registry,model_name=MODEL_NAME,model_version=MODEL_VERSION)\n",
    "llama_model_ref"
   ]
  },
  {
   "cell_type": "markdown",
   "metadata": {},
   "source": [
    "### Load Data from JSON into Snowflake\n",
    "\n",
    "*NOTE: Reading data in JSON and storing it in a Snowflake table are one time operations. Once the data is loaded, use Snowpark to load the data from the existing table.*"
   ]
  },
  {
   "cell_type": "code",
   "execution_count": null,
   "metadata": {},
   "outputs": [],
   "source": [
    "df = pd.read_json(\"data/frosty_transcripts.json\",lines=True)\n",
    "sf_df = session.write_pandas(df,'frosty_transcripts',auto_create_table=True,quote_identifiers=False,overwrite=True)\n",
    "sf_df.to_pandas().head()"
   ]
  },
  {
   "cell_type": "markdown",
   "metadata": {},
   "source": [
    "### Simple Prompt Engineering Example\n",
    "\n",
    "For every transcript, define summarization instruction for the LLM"
   ]
  },
  {
   "cell_type": "code",
   "execution_count": null,
   "metadata": {},
   "outputs": [],
   "source": [
    "begin_prompt = \\\n",
    "\"\"\"\n",
    "[INST] Summarize this transcript in less than 200 words: \n",
    "\"\"\"\n",
    "end_prompt = \" [/INST]\"\n",
    "\n",
    "df_inputs = sf_df.with_column('\"input\"',F.concat_ws(F.lit(\" \"),F.lit(begin_prompt),F.col('transcript'),F.lit(end_prompt))).select('\"input\"')\n",
    "df_inputs.to_pandas().head()"
   ]
  },
  {
   "cell_type": "markdown",
   "metadata": {},
   "source": [
    "### Inference using Simple Prompt\n",
    "\n",
    "Pass the summariation instruction to the LLM and examine results of 10 records"
   ]
  },
  {
   "cell_type": "code",
   "execution_count": null,
   "metadata": {},
   "outputs": [],
   "source": [
    "df_predict_results = llama_model_ref.predict(deployment_name=\"llama_predict\",data=df_inputs)\n",
    "df_predict_results.select('\"input\"','\"generated_text\"').limit(5).to_pandas()"
   ]
  },
  {
   "cell_type": "markdown",
   "metadata": {},
   "source": [
    "### Complex Prompt Engineering and Inference Example\n",
    "\n",
    "For every transcript, define more specific instruction for the LLM\n",
    "\n",
    "*NOTE: In the results, notice that the output is not consistent across all transcripts. The base model failed to follow the instructions in many of the cases as seen below.*"
   ]
  },
  {
   "cell_type": "code",
   "execution_count": null,
   "metadata": {},
   "outputs": [],
   "source": [
    "sf_df = session.table('frosty_transcripts')\n",
    "\n",
    "begin_prompt = \\\n",
    "\"\"\"\n",
    "[INST] Extract location and list of toys in JSON format: \n",
    "\"\"\"\n",
    "end_prompt = \" [/INST]\"\n",
    "\n",
    "df_inputs = sf_df.with_column('\"input\"',F.concat_ws(F.lit(\" \"),F.lit(begin_prompt),F.col('transcript'),F.lit(end_prompt))).select('\"input\"')\n",
    "df_predict_results = llama_model_ref.predict(deployment_name=\"llama_predict\",data=df_inputs)\n",
    "df_predict_results.limit(10).to_pandas()"
   ]
  },
  {
   "cell_type": "markdown",
   "metadata": {},
   "source": [
    "# BUILD LLM Bootcamp Day 2 Preparation\n",
    "\n",
    "Follow the instructions below to prepare your environment for BUILD LLM Bootcamp Day 2. \n",
    "\n",
    "*NOTE:* These operations can take about ~45-60mins depending on your wireless connection.\n",
    "\n",
    "1) Open terminal window and browse to the folder where you have cloned the repository\n",
    "\n",
    "2) Change folder to *day2*\n",
    "\n",
    "3) Run command *`docker build --platform linux/amd64 -t llm-bootcamp .`*\n",
    "\n",
    "4) Once that image is built locally, run the following commands to push the image to Snowflake Registry\n",
    "\n",
    "***Note:*** If your account name contains an underscore (_), you will need to replace it with a dash (-) for each of the below commands. Otherwise, you will encounter an error similar to `Get \"https:/v2/\": http: no Host in request URL`\n",
    "\n",
    "1) Replace ***your-account-name*** with your account name and ***your-db-name*** with the name of your database ***in lowercase*** and then run the following command\n",
    "\n",
    "    `docker tag llm-bootcamp:latest sfsenorthamerica-your-account-name.registry.snowflakecomputing.com/your-db-name/schema_llm/image_repo/llm-bootcamp:latest`\n",
    "\n",
    "2) Replace ***your-account-name*** with your account name and run the following command to login using your LLM Bootcamp Snowflake account username and password\n",
    "\n",
    "    `docker login sfsenorthamerica-your-account-name.registry.snowflakecomputing.com`\n",
    "    \n",
    "3) Replace ***your-account-name*** with your account name and ***your-db-name*** with the name of your database ***in lowercase*** and then run the following command\n",
    "\n",
    "    `docker push sfsenorthamerica-your-account-name.registry.snowflakecomputing.com/your-db-name/schema_llm/image_repo/llm-bootcamp:latest`\n",
    "\n"
   ]
  },
  {
   "cell_type": "markdown",
   "metadata": {},
   "source": []
  }
 ],
 "metadata": {
  "kernelspec": {
   "display_name": "llm-bootcamp",
   "language": "python",
   "name": "python3"
  },
  "language_info": {
   "codemirror_mode": {
    "name": "ipython",
    "version": 3
   },
   "file_extension": ".py",
   "mimetype": "text/x-python",
   "name": "python",
   "nbconvert_exporter": "python",
   "pygments_lexer": "ipython3",
   "version": "3.9.6"
  }
 },
 "nbformat": 4,
 "nbformat_minor": 2
}
